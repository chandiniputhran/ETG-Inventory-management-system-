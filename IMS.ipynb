{
  "nbformat": 4,
  "nbformat_minor": 0,
  "metadata": {
    "colab": {
      "name": "IMS.ipynb",
      "provenance": [],
      "collapsed_sections": []
    },
    "kernelspec": {
      "name": "python3",
      "display_name": "Python 3"
    },
    "language_info": {
      "name": "python"
    }
  },
  "cells": [
    {
      "cell_type": "markdown",
      "metadata": {
        "id": "okyIcklMWEyN"
      },
      "source": [
        "## **Inventory manamanagement system**\n",
        "\n",
        "\n",
        "\n"
      ]
    },
    {
      "cell_type": "code",
      "metadata": {
        "id": "V3JNcbw-bLul"
      },
      "source": [
        "records={\n",
        "     1520451 : {\"product\": \"gooday\", \"quantity\": 100, \"price\": 10, \"category\": \"biscuit\", \"rating\": 8},\n",
        "     1520452 : {\"product\": \"dairymilk(s)\", \"quantity\": 170, \"price\": 10, \"category\": \"chocolate\", \"rating\": 9}, \n",
        "     1520453 : {\"product\": \"dairymilk(l)\", \"quantity\": 167, \"price\": 40, \"category\": \"chocolate\", \"rating\": 7}, \n",
        "     1520454 : {\"product\": \"5-star(s)\", \"quantity\": 500, \"price\": 10, \"category\": \"chocolate\", \"rating\": 8}, \n",
        "     1520455 : {\"product\": \"5-star(m)\", \"quantity\": 300, \"price\": 50, \"category\": \"chocolate\", \"rating\": 6}, \n",
        "     1520456 : {\"product\": \"5-star(l)\", \"quantity\": 200, \"price\": 100, \"category\": \"chocolate\", \"rating\": 10}, \n",
        "     1520457 : {\"product\": \"sneakers\", \"quantity\": 480, \"price\": 40, \"category\": \"chocolate\", \"rating\": 7}, \n",
        "     1520458 : {\"product\": \"centerfresh\", \"quantity\": 600, \"price\": 1, \"category\": \"toffe\", \"rating\": 8},\n",
        "     1520459 : {\"product\": \"clinicplus\", \"quantity\": 350, \"price\": 3, \"category\": \"shampoo\", \"rating\": 9},\n",
        "     1520460 : {\"product\": \"boost\", \"quantity\": 50, \"price\": 220, \"category\": \"hot drink powder\", \"rating\": 6},\n",
        "     1520461 : {\"product\": \"horlics\", \"quantity\": 250, \"price\": 225, \"category\": \"hot drink powder\", \"rating\": 8},\n",
        "     1520462 : {\"product\": \"dettolbottle\", \"quantity\": 360, \"price\": 150, \"category\": \"handwash\", \"rating\": 7}, \n",
        "     1520463 : {\"product\": \"chocobar\", \"quantity\": 530, \"price\": 20, \"category\": \"icecream\", \"rating\": 9},\n",
        "     1520464 : {\"product\": \"candy\", \"quantity\": 320, \"price\": 10, \"category\": \"icecream\", \"rating\": 8},\n",
        "     1520465 : {\"product\": \"coneicecream\", \"quantity\": 220, \"price\": 35, \"category\": \"icecream\", \"rating\": 9}, \n",
        "     1520466 : {\"product\": \"ballpen\", \"quantity\": 470, \"price\": 5, \"category\": \"staionary\", \"rating\": 8}, \n",
        "     1520467 : {\"product\": \"apsarapencil\", \"quantity\": 560, \"price\": 6, \"ccategory\": \"staionary\", \"rating\": 7}, \n",
        "     1520468 : {\"product\": \"fevicol\", \"quantity\": 80, \"price\": 10, \"category\": \"staionary\", \"rating\": 7}, \n",
        "     1520469 : {\"product\": \"maggie\", \"quantity\": 590, \"price\": 5, \"category\": \"snacks\", \"rating\": 8},\n",
        "     1520470 : {\"product\": \"maggie-12\", \"quantity\": 60, \"price\": 12, \"category\": \"snacks\", \"rating\": 6},\n",
        "     1520471 : {\"product\": \"egg\", \"quantity\": 460, \"price\": 7, \"category\": \"biscuit\", \"rating\": 9}, \n",
        "     1520472 : {\"product\": \"nandini milk\", \"quantity\": 32, \"price\": 10, \"category\": \"milk\", \"rating\": 9}, \n",
        "     1520473 : {\"product\": \"masalapuri\", \"quantity\": 210, \"price\": 40, \"category\": \"snacks\", \"rating\": 10},\n",
        "     1520474 : {\"product\": \"clinicplusbottle\", \"quantity\": 140, \"price\": 160, \"category\": \"shampoo\", \"rating\": 7},\n",
        "     1520475 : {\"product\": \"dove\", \"quantity\": 190, \"price\": 2, \"category\": \"shampoo\", \"rating\": 8}, \n",
        "     1520476 : {\"product\": \"dovebottle\", \"quantity\": 90, \"price\": 170, \"category\": \"shampoo\", \"rating\": 6}, \n",
        "     1520477 : {\"product\": \"hairoil\", \"quantity\": 135, \"price\": 10, \"category\": \"oil\", \"rating\": 5}, \n",
        "     1520478 : {\"product\": \"parle g\", \"quantity\": 570, \"price\": 70, \"category\": \"biscuit\", \"rating\": 7}, \n",
        "     1520479 : {\"product\": \"oreo\", \"quantity\": 375, \"price\": 10, \"category\": \"biscuit\", \"rating\": 9},\n",
        "     1520480 : {\"product\": \"facewash\", \"quantity\": 80, \"price\": 15, \"category\": \"cosmetic\", \"rating\": 8}} "
      ],
      "execution_count": 4,
      "outputs": []
    },
    {
      "cell_type": "code",
      "metadata": {
        "colab": {
          "base_uri": "https://localhost:8080/"
        },
        "id": "LQZXlk9acBbI",
        "outputId": "e57c5211-22f6-404e-e7a7-a94a8e93cc0b"
      },
      "source": [
        "records"
      ],
      "execution_count": 5,
      "outputs": [
        {
          "output_type": "execute_result",
          "data": {
            "text/plain": [
              "{1520451: {'category': 'biscuit',\n",
              "  'price': 10,\n",
              "  'product': 'gooday',\n",
              "  'quantity': 100,\n",
              "  'rating': 8},\n",
              " 1520452: {'category': 'chocolate',\n",
              "  'price': 10,\n",
              "  'product': 'dairymilk(s)',\n",
              "  'quantity': 170,\n",
              "  'rating': 9},\n",
              " 1520453: {'category': 'chocolate',\n",
              "  'price': 40,\n",
              "  'product': 'dairymilk(l)',\n",
              "  'quantity': 167,\n",
              "  'rating': 7},\n",
              " 1520454: {'category': 'chocolate',\n",
              "  'price': 10,\n",
              "  'product': '5-star(s)',\n",
              "  'quantity': 500,\n",
              "  'rating': 8},\n",
              " 1520455: {'category': 'chocolate',\n",
              "  'price': 50,\n",
              "  'product': '5-star(m)',\n",
              "  'quantity': 300,\n",
              "  'rating': 6},\n",
              " 1520456: {'category': 'chocolate',\n",
              "  'price': 100,\n",
              "  'product': '5-star(l)',\n",
              "  'quantity': 200,\n",
              "  'rating': 10},\n",
              " 1520457: {'category': 'chocolate',\n",
              "  'price': 40,\n",
              "  'product': 'sneakers',\n",
              "  'quantity': 480,\n",
              "  'rating': 7},\n",
              " 1520458: {'category': 'toffe',\n",
              "  'price': 1,\n",
              "  'product': 'centerfresh',\n",
              "  'quantity': 600,\n",
              "  'rating': 8},\n",
              " 1520459: {'category': 'shampoo',\n",
              "  'price': 3,\n",
              "  'product': 'clinicplus',\n",
              "  'quantity': 350,\n",
              "  'rating': 9},\n",
              " 1520460: {'category': 'hot drink powder',\n",
              "  'price': 220,\n",
              "  'product': 'boost',\n",
              "  'quantity': 50,\n",
              "  'rating': 6},\n",
              " 1520461: {'category': 'hot drink powder',\n",
              "  'price': 225,\n",
              "  'product': 'horlics',\n",
              "  'quantity': 250,\n",
              "  'rating': 8},\n",
              " 1520462: {'category': 'handwash',\n",
              "  'price': 150,\n",
              "  'product': 'dettolbottle',\n",
              "  'quantity': 360,\n",
              "  'rating': 7},\n",
              " 1520463: {'category': 'icecream',\n",
              "  'price': 20,\n",
              "  'product': 'chocobar',\n",
              "  'quantity': 530,\n",
              "  'rating': 9},\n",
              " 1520464: {'category': 'icecream',\n",
              "  'price': 10,\n",
              "  'product': 'candy',\n",
              "  'quantity': 320,\n",
              "  'rating': 8},\n",
              " 1520465: {'category': 'icecream',\n",
              "  'price': 35,\n",
              "  'product': 'coneicecream',\n",
              "  'quantity': 220,\n",
              "  'rating': 9},\n",
              " 1520466: {'category': 'staionary',\n",
              "  'price': 5,\n",
              "  'product': 'ballpen',\n",
              "  'quantity': 470,\n",
              "  'rating': 8},\n",
              " 1520467: {'ccategory': 'staionary',\n",
              "  'price': 6,\n",
              "  'product': 'apsarapencil',\n",
              "  'quantity': 560,\n",
              "  'rating': 7},\n",
              " 1520468: {'category': 'staionary',\n",
              "  'price': 10,\n",
              "  'product': 'fevicol',\n",
              "  'quantity': 80,\n",
              "  'rating': 7},\n",
              " 1520469: {'category': 'snacks',\n",
              "  'price': 5,\n",
              "  'product': 'maggie',\n",
              "  'quantity': 590,\n",
              "  'rating': 8},\n",
              " 1520470: {'category': 'snacks',\n",
              "  'price': 12,\n",
              "  'product': 'maggie-12',\n",
              "  'quantity': 60,\n",
              "  'rating': 6},\n",
              " 1520471: {'category': 'biscuit',\n",
              "  'price': 7,\n",
              "  'product': 'egg',\n",
              "  'quantity': 460,\n",
              "  'rating': 9},\n",
              " 1520472: {'category': 'milk',\n",
              "  'price': 10,\n",
              "  'product': 'nandini milk',\n",
              "  'quantity': 32,\n",
              "  'rating': 9},\n",
              " 1520473: {'category': 'snacks',\n",
              "  'price': 40,\n",
              "  'product': 'masalapuri',\n",
              "  'quantity': 210,\n",
              "  'rating': 10},\n",
              " 1520474: {'category': 'shampoo',\n",
              "  'price': 160,\n",
              "  'product': 'clinicplusbottle',\n",
              "  'quantity': 140,\n",
              "  'rating': 7},\n",
              " 1520475: {'category': 'shampoo',\n",
              "  'price': 2,\n",
              "  'product': 'dove',\n",
              "  'quantity': 190,\n",
              "  'rating': 8},\n",
              " 1520476: {'category': 'shampoo',\n",
              "  'price': 170,\n",
              "  'product': 'dovebottle',\n",
              "  'quantity': 90,\n",
              "  'rating': 6},\n",
              " 1520477: {'category': 'oil',\n",
              "  'price': 10,\n",
              "  'product': 'hairoil',\n",
              "  'quantity': 135,\n",
              "  'rating': 5},\n",
              " 1520478: {'category': 'biscuit',\n",
              "  'price': 70,\n",
              "  'product': 'parle g',\n",
              "  'quantity': 570,\n",
              "  'rating': 7},\n",
              " 1520479: {'category': 'biscuit',\n",
              "  'price': 10,\n",
              "  'product': 'oreo',\n",
              "  'quantity': 375,\n",
              "  'rating': 9},\n",
              " 1520480: {'category': 'cosmetic',\n",
              "  'price': 15,\n",
              "  'product': 'facewash',\n",
              "  'quantity': 80,\n",
              "  'rating': 8}}"
            ]
          },
          "metadata": {},
          "execution_count": 5
        }
      ]
    },
    {
      "cell_type": "code",
      "metadata": {
        "id": "prrqPzkiZCDd"
      },
      "source": [
        "import json\n"
      ],
      "execution_count": 6,
      "outputs": []
    },
    {
      "cell_type": "code",
      "metadata": {
        "id": "26VrPWMLZGLt"
      },
      "source": [
        "js=json.dumps(records)\n"
      ],
      "execution_count": 7,
      "outputs": []
    },
    {
      "cell_type": "code",
      "metadata": {
        "colab": {
          "base_uri": "https://localhost:8080/",
          "height": 137
        },
        "id": "kBMkQ4WlZOeA",
        "outputId": "cca10fa8-e4fa-489b-d47b-21799a77cfe4"
      },
      "source": [
        "js"
      ],
      "execution_count": 8,
      "outputs": [
        {
          "output_type": "execute_result",
          "data": {
            "application/vnd.google.colaboratory.intrinsic+json": {
              "type": "string"
            },
            "text/plain": [
              "'{\"1520451\": {\"product\": \"gooday\", \"quantity\": 100, \"price\": 10, \"category\": \"biscuit\", \"rating\": 8}, \"1520452\": {\"product\": \"dairymilk(s)\", \"quantity\": 170, \"price\": 10, \"category\": \"chocolate\", \"rating\": 9}, \"1520453\": {\"product\": \"dairymilk(l)\", \"quantity\": 167, \"price\": 40, \"category\": \"chocolate\", \"rating\": 7}, \"1520454\": {\"product\": \"5-star(s)\", \"quantity\": 500, \"price\": 10, \"category\": \"chocolate\", \"rating\": 8}, \"1520455\": {\"product\": \"5-star(m)\", \"quantity\": 300, \"price\": 50, \"category\": \"chocolate\", \"rating\": 6}, \"1520456\": {\"product\": \"5-star(l)\", \"quantity\": 200, \"price\": 100, \"category\": \"chocolate\", \"rating\": 10}, \"1520457\": {\"product\": \"sneakers\", \"quantity\": 480, \"price\": 40, \"category\": \"chocolate\", \"rating\": 7}, \"1520458\": {\"product\": \"centerfresh\", \"quantity\": 600, \"price\": 1, \"category\": \"toffe\", \"rating\": 8}, \"1520459\": {\"product\": \"clinicplus\", \"quantity\": 350, \"price\": 3, \"category\": \"shampoo\", \"rating\": 9}, \"1520460\": {\"product\": \"boost\", \"quantity\": 50, \"price\": 220, \"category\": \"hot drink powder\", \"rating\": 6}, \"1520461\": {\"product\": \"horlics\", \"quantity\": 250, \"price\": 225, \"category\": \"hot drink powder\", \"rating\": 8}, \"1520462\": {\"product\": \"dettolbottle\", \"quantity\": 360, \"price\": 150, \"category\": \"handwash\", \"rating\": 7}, \"1520463\": {\"product\": \"chocobar\", \"quantity\": 530, \"price\": 20, \"category\": \"icecream\", \"rating\": 9}, \"1520464\": {\"product\": \"candy\", \"quantity\": 320, \"price\": 10, \"category\": \"icecream\", \"rating\": 8}, \"1520465\": {\"product\": \"coneicecream\", \"quantity\": 220, \"price\": 35, \"category\": \"icecream\", \"rating\": 9}, \"1520466\": {\"product\": \"ballpen\", \"quantity\": 470, \"price\": 5, \"category\": \"staionary\", \"rating\": 8}, \"1520467\": {\"product\": \"apsarapencil\", \"quantity\": 560, \"price\": 6, \"ccategory\": \"staionary\", \"rating\": 7}, \"1520468\": {\"product\": \"fevicol\", \"quantity\": 80, \"price\": 10, \"category\": \"staionary\", \"rating\": 7}, \"1520469\": {\"product\": \"maggie\", \"quantity\": 590, \"price\": 5, \"category\": \"snacks\", \"rating\": 8}, \"1520470\": {\"product\": \"maggie-12\", \"quantity\": 60, \"price\": 12, \"category\": \"snacks\", \"rating\": 6}, \"1520471\": {\"product\": \"egg\", \"quantity\": 460, \"price\": 7, \"category\": \"biscuit\", \"rating\": 9}, \"1520472\": {\"product\": \"nandini milk\", \"quantity\": 32, \"price\": 10, \"category\": \"milk\", \"rating\": 9}, \"1520473\": {\"product\": \"masalapuri\", \"quantity\": 210, \"price\": 40, \"category\": \"snacks\", \"rating\": 10}, \"1520474\": {\"product\": \"clinicplusbottle\", \"quantity\": 140, \"price\": 160, \"category\": \"shampoo\", \"rating\": 7}, \"1520475\": {\"product\": \"dove\", \"quantity\": 190, \"price\": 2, \"category\": \"shampoo\", \"rating\": 8}, \"1520476\": {\"product\": \"dovebottle\", \"quantity\": 90, \"price\": 170, \"category\": \"shampoo\", \"rating\": 6}, \"1520477\": {\"product\": \"hairoil\", \"quantity\": 135, \"price\": 10, \"category\": \"oil\", \"rating\": 5}, \"1520478\": {\"product\": \"parle g\", \"quantity\": 570, \"price\": 70, \"category\": \"biscuit\", \"rating\": 7}, \"1520479\": {\"product\": \"oreo\", \"quantity\": 375, \"price\": 10, \"category\": \"biscuit\", \"rating\": 9}, \"1520480\": {\"product\": \"facewash\", \"quantity\": 80, \"price\": 15, \"category\": \"cosmetic\", \"rating\": 8}}'"
            ]
          },
          "metadata": {},
          "execution_count": 8
        }
      ]
    },
    {
      "cell_type": "code",
      "metadata": {
        "colab": {
          "base_uri": "https://localhost:8080/"
        },
        "id": "Pgtrcpx_fyaG",
        "outputId": "5eb3066b-b85a-4459-8577-9acc4dcb5671"
      },
      "source": [
        "records"
      ],
      "execution_count": 9,
      "outputs": [
        {
          "output_type": "execute_result",
          "data": {
            "text/plain": [
              "{1520451: {'category': 'biscuit',\n",
              "  'price': 10,\n",
              "  'product': 'gooday',\n",
              "  'quantity': 100,\n",
              "  'rating': 8},\n",
              " 1520452: {'category': 'chocolate',\n",
              "  'price': 10,\n",
              "  'product': 'dairymilk(s)',\n",
              "  'quantity': 170,\n",
              "  'rating': 9},\n",
              " 1520453: {'category': 'chocolate',\n",
              "  'price': 40,\n",
              "  'product': 'dairymilk(l)',\n",
              "  'quantity': 167,\n",
              "  'rating': 7},\n",
              " 1520454: {'category': 'chocolate',\n",
              "  'price': 10,\n",
              "  'product': '5-star(s)',\n",
              "  'quantity': 500,\n",
              "  'rating': 8},\n",
              " 1520455: {'category': 'chocolate',\n",
              "  'price': 50,\n",
              "  'product': '5-star(m)',\n",
              "  'quantity': 300,\n",
              "  'rating': 6},\n",
              " 1520456: {'category': 'chocolate',\n",
              "  'price': 100,\n",
              "  'product': '5-star(l)',\n",
              "  'quantity': 200,\n",
              "  'rating': 10},\n",
              " 1520457: {'category': 'chocolate',\n",
              "  'price': 40,\n",
              "  'product': 'sneakers',\n",
              "  'quantity': 480,\n",
              "  'rating': 7},\n",
              " 1520458: {'category': 'toffe',\n",
              "  'price': 1,\n",
              "  'product': 'centerfresh',\n",
              "  'quantity': 600,\n",
              "  'rating': 8},\n",
              " 1520459: {'category': 'shampoo',\n",
              "  'price': 3,\n",
              "  'product': 'clinicplus',\n",
              "  'quantity': 350,\n",
              "  'rating': 9},\n",
              " 1520460: {'category': 'hot drink powder',\n",
              "  'price': 220,\n",
              "  'product': 'boost',\n",
              "  'quantity': 50,\n",
              "  'rating': 6},\n",
              " 1520461: {'category': 'hot drink powder',\n",
              "  'price': 225,\n",
              "  'product': 'horlics',\n",
              "  'quantity': 250,\n",
              "  'rating': 8},\n",
              " 1520462: {'category': 'handwash',\n",
              "  'price': 150,\n",
              "  'product': 'dettolbottle',\n",
              "  'quantity': 360,\n",
              "  'rating': 7},\n",
              " 1520463: {'category': 'icecream',\n",
              "  'price': 20,\n",
              "  'product': 'chocobar',\n",
              "  'quantity': 530,\n",
              "  'rating': 9},\n",
              " 1520464: {'category': 'icecream',\n",
              "  'price': 10,\n",
              "  'product': 'candy',\n",
              "  'quantity': 320,\n",
              "  'rating': 8},\n",
              " 1520465: {'category': 'icecream',\n",
              "  'price': 35,\n",
              "  'product': 'coneicecream',\n",
              "  'quantity': 220,\n",
              "  'rating': 9},\n",
              " 1520466: {'category': 'staionary',\n",
              "  'price': 5,\n",
              "  'product': 'ballpen',\n",
              "  'quantity': 470,\n",
              "  'rating': 8},\n",
              " 1520467: {'ccategory': 'staionary',\n",
              "  'price': 6,\n",
              "  'product': 'apsarapencil',\n",
              "  'quantity': 560,\n",
              "  'rating': 7},\n",
              " 1520468: {'category': 'staionary',\n",
              "  'price': 10,\n",
              "  'product': 'fevicol',\n",
              "  'quantity': 80,\n",
              "  'rating': 7},\n",
              " 1520469: {'category': 'snacks',\n",
              "  'price': 5,\n",
              "  'product': 'maggie',\n",
              "  'quantity': 590,\n",
              "  'rating': 8},\n",
              " 1520470: {'category': 'snacks',\n",
              "  'price': 12,\n",
              "  'product': 'maggie-12',\n",
              "  'quantity': 60,\n",
              "  'rating': 6},\n",
              " 1520471: {'category': 'biscuit',\n",
              "  'price': 7,\n",
              "  'product': 'egg',\n",
              "  'quantity': 460,\n",
              "  'rating': 9},\n",
              " 1520472: {'category': 'milk',\n",
              "  'price': 10,\n",
              "  'product': 'nandini milk',\n",
              "  'quantity': 32,\n",
              "  'rating': 9},\n",
              " 1520473: {'category': 'snacks',\n",
              "  'price': 40,\n",
              "  'product': 'masalapuri',\n",
              "  'quantity': 210,\n",
              "  'rating': 10},\n",
              " 1520474: {'category': 'shampoo',\n",
              "  'price': 160,\n",
              "  'product': 'clinicplusbottle',\n",
              "  'quantity': 140,\n",
              "  'rating': 7},\n",
              " 1520475: {'category': 'shampoo',\n",
              "  'price': 2,\n",
              "  'product': 'dove',\n",
              "  'quantity': 190,\n",
              "  'rating': 8},\n",
              " 1520476: {'category': 'shampoo',\n",
              "  'price': 170,\n",
              "  'product': 'dovebottle',\n",
              "  'quantity': 90,\n",
              "  'rating': 6},\n",
              " 1520477: {'category': 'oil',\n",
              "  'price': 10,\n",
              "  'product': 'hairoil',\n",
              "  'quantity': 135,\n",
              "  'rating': 5},\n",
              " 1520478: {'category': 'biscuit',\n",
              "  'price': 70,\n",
              "  'product': 'parle g',\n",
              "  'quantity': 570,\n",
              "  'rating': 7},\n",
              " 1520479: {'category': 'biscuit',\n",
              "  'price': 10,\n",
              "  'product': 'oreo',\n",
              "  'quantity': 375,\n",
              "  'rating': 9},\n",
              " 1520480: {'category': 'cosmetic',\n",
              "  'price': 15,\n",
              "  'product': 'facewash',\n",
              "  'quantity': 80,\n",
              "  'rating': 8}}"
            ]
          },
          "metadata": {},
          "execution_count": 9
        }
      ]
    },
    {
      "cell_type": "code",
      "metadata": {
        "colab": {
          "base_uri": "https://localhost:8080/"
        },
        "id": "-O_YkTWEf7Zu",
        "outputId": "fb7fdd7e-184a-42eb-ec73-0747c4b1ee61"
      },
      "source": [
        "type(js)"
      ],
      "execution_count": 10,
      "outputs": [
        {
          "output_type": "execute_result",
          "data": {
            "text/plain": [
              "str"
            ]
          },
          "metadata": {},
          "execution_count": 10
        }
      ]
    },
    {
      "cell_type": "code",
      "metadata": {
        "colab": {
          "base_uri": "https://localhost:8080/"
        },
        "id": "Hvqt3RKpgAhN",
        "outputId": "b26d12f6-87f8-4ca4-8cb0-34b610708632"
      },
      "source": [
        "type(records)"
      ],
      "execution_count": 11,
      "outputs": [
        {
          "output_type": "execute_result",
          "data": {
            "text/plain": [
              "dict"
            ]
          },
          "metadata": {},
          "execution_count": 11
        }
      ]
    },
    {
      "cell_type": "code",
      "metadata": {
        "id": "kHrilbE2ciOP"
      },
      "source": [
        "fd = open(\"records.json\",'w') \n",
        "\n",
        "fd.write(js)\n",
        "\n",
        "fd.close()"
      ],
      "execution_count": 12,
      "outputs": []
    },
    {
      "cell_type": "code",
      "metadata": {
        "id": "R2QoZ8GrhD0e"
      },
      "source": [
        "fd = open(\"records.json\",'r') \n",
        "\n",
        "txt=fd.read()\n",
        "\n",
        "fd.close()"
      ],
      "execution_count": 13,
      "outputs": []
    },
    {
      "cell_type": "code",
      "metadata": {
        "id": "d53ACt2hhD3r"
      },
      "source": [
        "records=json.loads(txt)"
      ],
      "execution_count": 14,
      "outputs": []
    },
    {
      "cell_type": "code",
      "metadata": {
        "colab": {
          "base_uri": "https://localhost:8080/"
        },
        "id": "wMC1yHwphD9k",
        "outputId": "f3439ae6-f032-4ca9-b908-1d7269221365"
      },
      "source": [
        "prod_id= str(input(\"Enter product id:\"))\n",
        "product = str(input(\"Enter product:\"))\n",
        "price= int(input(\"Enter price:\"))\n",
        "quantity = int(input(\"Enter quantity:\"))\n",
        "category = str(input(\"Enter category:\"))\n",
        "rating = int(input(\"Enter rating:\"))\n",
        "\n",
        "records[prod_id] = {'product': product, 'quantity': quantity,'price': price,'category':category,'rating':rating }\n",
        "\n",
        "js = json.dumps(records)\n",
        "\n",
        "fd = open(\"records.json\",'w')\n",
        "fd.write(js)\n",
        "fd.close()"
      ],
      "execution_count": 15,
      "outputs": [
        {
          "name": "stdout",
          "output_type": "stream",
          "text": [
            "Enter product id:1520481\n",
            "Enter product:maza\n",
            "Enter price:35\n",
            "Enter quantity:600\n",
            "Enter category:juice\n",
            "Enter rating:7\n"
          ]
        }
      ]
    },
    {
      "cell_type": "code",
      "metadata": {
        "colab": {
          "base_uri": "https://localhost:8080/"
        },
        "id": "_NjVBq8GhsbF",
        "outputId": "4b0d3918-08e4-46fe-d073-5aa8726c9460"
      },
      "source": [
        "records"
      ],
      "execution_count": 16,
      "outputs": [
        {
          "output_type": "execute_result",
          "data": {
            "text/plain": [
              "{'1520451': {'category': 'biscuit',\n",
              "  'price': 10,\n",
              "  'product': 'gooday',\n",
              "  'quantity': 100,\n",
              "  'rating': 8},\n",
              " '1520452': {'category': 'chocolate',\n",
              "  'price': 10,\n",
              "  'product': 'dairymilk(s)',\n",
              "  'quantity': 170,\n",
              "  'rating': 9},\n",
              " '1520453': {'category': 'chocolate',\n",
              "  'price': 40,\n",
              "  'product': 'dairymilk(l)',\n",
              "  'quantity': 167,\n",
              "  'rating': 7},\n",
              " '1520454': {'category': 'chocolate',\n",
              "  'price': 10,\n",
              "  'product': '5-star(s)',\n",
              "  'quantity': 500,\n",
              "  'rating': 8},\n",
              " '1520455': {'category': 'chocolate',\n",
              "  'price': 50,\n",
              "  'product': '5-star(m)',\n",
              "  'quantity': 300,\n",
              "  'rating': 6},\n",
              " '1520456': {'category': 'chocolate',\n",
              "  'price': 100,\n",
              "  'product': '5-star(l)',\n",
              "  'quantity': 200,\n",
              "  'rating': 10},\n",
              " '1520457': {'category': 'chocolate',\n",
              "  'price': 40,\n",
              "  'product': 'sneakers',\n",
              "  'quantity': 480,\n",
              "  'rating': 7},\n",
              " '1520458': {'category': 'toffe',\n",
              "  'price': 1,\n",
              "  'product': 'centerfresh',\n",
              "  'quantity': 600,\n",
              "  'rating': 8},\n",
              " '1520459': {'category': 'shampoo',\n",
              "  'price': 3,\n",
              "  'product': 'clinicplus',\n",
              "  'quantity': 350,\n",
              "  'rating': 9},\n",
              " '1520460': {'category': 'hot drink powder',\n",
              "  'price': 220,\n",
              "  'product': 'boost',\n",
              "  'quantity': 50,\n",
              "  'rating': 6},\n",
              " '1520461': {'category': 'hot drink powder',\n",
              "  'price': 225,\n",
              "  'product': 'horlics',\n",
              "  'quantity': 250,\n",
              "  'rating': 8},\n",
              " '1520462': {'category': 'handwash',\n",
              "  'price': 150,\n",
              "  'product': 'dettolbottle',\n",
              "  'quantity': 360,\n",
              "  'rating': 7},\n",
              " '1520463': {'category': 'icecream',\n",
              "  'price': 20,\n",
              "  'product': 'chocobar',\n",
              "  'quantity': 530,\n",
              "  'rating': 9},\n",
              " '1520464': {'category': 'icecream',\n",
              "  'price': 10,\n",
              "  'product': 'candy',\n",
              "  'quantity': 320,\n",
              "  'rating': 8},\n",
              " '1520465': {'category': 'icecream',\n",
              "  'price': 35,\n",
              "  'product': 'coneicecream',\n",
              "  'quantity': 220,\n",
              "  'rating': 9},\n",
              " '1520466': {'category': 'staionary',\n",
              "  'price': 5,\n",
              "  'product': 'ballpen',\n",
              "  'quantity': 470,\n",
              "  'rating': 8},\n",
              " '1520467': {'ccategory': 'staionary',\n",
              "  'price': 6,\n",
              "  'product': 'apsarapencil',\n",
              "  'quantity': 560,\n",
              "  'rating': 7},\n",
              " '1520468': {'category': 'staionary',\n",
              "  'price': 10,\n",
              "  'product': 'fevicol',\n",
              "  'quantity': 80,\n",
              "  'rating': 7},\n",
              " '1520469': {'category': 'snacks',\n",
              "  'price': 5,\n",
              "  'product': 'maggie',\n",
              "  'quantity': 590,\n",
              "  'rating': 8},\n",
              " '1520470': {'category': 'snacks',\n",
              "  'price': 12,\n",
              "  'product': 'maggie-12',\n",
              "  'quantity': 60,\n",
              "  'rating': 6},\n",
              " '1520471': {'category': 'biscuit',\n",
              "  'price': 7,\n",
              "  'product': 'egg',\n",
              "  'quantity': 460,\n",
              "  'rating': 9},\n",
              " '1520472': {'category': 'milk',\n",
              "  'price': 10,\n",
              "  'product': 'nandini milk',\n",
              "  'quantity': 32,\n",
              "  'rating': 9},\n",
              " '1520473': {'category': 'snacks',\n",
              "  'price': 40,\n",
              "  'product': 'masalapuri',\n",
              "  'quantity': 210,\n",
              "  'rating': 10},\n",
              " '1520474': {'category': 'shampoo',\n",
              "  'price': 160,\n",
              "  'product': 'clinicplusbottle',\n",
              "  'quantity': 140,\n",
              "  'rating': 7},\n",
              " '1520475': {'category': 'shampoo',\n",
              "  'price': 2,\n",
              "  'product': 'dove',\n",
              "  'quantity': 190,\n",
              "  'rating': 8},\n",
              " '1520476': {'category': 'shampoo',\n",
              "  'price': 170,\n",
              "  'product': 'dovebottle',\n",
              "  'quantity': 90,\n",
              "  'rating': 6},\n",
              " '1520477': {'category': 'oil',\n",
              "  'price': 10,\n",
              "  'product': 'hairoil',\n",
              "  'quantity': 135,\n",
              "  'rating': 5},\n",
              " '1520478': {'category': 'biscuit',\n",
              "  'price': 70,\n",
              "  'product': 'parle g',\n",
              "  'quantity': 570,\n",
              "  'rating': 7},\n",
              " '1520479': {'category': 'biscuit',\n",
              "  'price': 10,\n",
              "  'product': 'oreo',\n",
              "  'quantity': 375,\n",
              "  'rating': 9},\n",
              " '1520480': {'category': 'cosmetic',\n",
              "  'price': 15,\n",
              "  'product': 'facewash',\n",
              "  'quantity': 80,\n",
              "  'rating': 8},\n",
              " '1520481': {'category': 'juice',\n",
              "  'price': 35,\n",
              "  'product': 'maza',\n",
              "  'quantity': 600,\n",
              "  'rating': 7}}"
            ]
          },
          "metadata": {},
          "execution_count": 16
        }
      ]
    },
    {
      "cell_type": "code",
      "metadata": {
        "colab": {
          "base_uri": "https://localhost:8080/"
        },
        "id": "SrbVtgbzhwTs",
        "outputId": "5bf68091-b9c4-417b-8878-d45fcc672660"
      },
      "source": [
        "import time\n",
        "print('_________________________________________________________________') \n",
        "\n",
        "print (time.ctime())\n",
        "print('_________________________________________________________________')\n",
        "\n",
        "\n",
        "print(\"************************Welcome to CK store************************\")\n",
        "print(\"*********************Inventory management system*****************\")\n",
        "\n",
        "\n",
        "prod_id  = str(input(\"Enter the product_id: \"))\n",
        "quantity = int(input(\"Enter the quantity: \"))\n",
        "\n",
        "print(\"Product: \", records[prod_id ]['product'])\n",
        "print(\"Price: \", records[prod_id ]['price'])\n",
        "print(\"Quantity of The Product : \" ,quantity)\n",
        "print(\"Category of The Product : \" ,records[prod_id][\"category\"])\n",
        "\n",
        "records[prod_id]['quantity'] = records[prod_id]['quantity'] - quantity \n",
        "\n",
        "print (\"*****************************************************************\")\n",
        "  \n",
        "print(\"Billing Amount: \", records[prod_id]['price'] * quantity)    \n",
        "    \n",
        "print (\"*****************************************************************\")\n",
        "\n",
        "\n",
        "print (\"THANK YOU\")\n",
        "print (\"VISIT AGAIN\")\n",
        "\n",
        "print (\"__________________________________________________________________\")"
      ],
      "execution_count": 17,
      "outputs": [
        {
          "output_type": "stream",
          "name": "stdout",
          "text": [
            "_________________________________________________________________\n",
            "Sun Sep  5 17:58:39 2021\n",
            "_________________________________________________________________\n",
            "************************Welcome to CK store************************\n",
            "*********************Inventory management system*****************\n",
            "Enter the product_id: 1520480\n",
            "Enter the quantity: 70\n",
            "Product:  facewash\n",
            "Price:  15\n",
            "Quantity of The Product :  70\n",
            "Category of The Product :  cosmetic\n",
            "*****************************************************************\n",
            "Billing Amount:  1050\n",
            "*****************************************************************\n",
            "THANK YOU\n",
            "VISIT AGAIN\n",
            "__________________________________________________________________\n"
          ]
        }
      ]
    },
    {
      "cell_type": "code",
      "metadata": {
        "id": "MY3WC6jzhwW5"
      },
      "source": [
        ""
      ],
      "execution_count": null,
      "outputs": []
    }
  ]
}